{
 "cells": [
  {
   "cell_type": "code",
   "execution_count": 4,
   "metadata": {},
   "outputs": [],
   "source": [
    "code = {\n",
    "    \"name\": \"commands\",\n",
    "    \"body\": [\n",
    "        {\n",
    "            \"name\": \"repeat-n\",\n",
    "            \"count\": 10,\n",
    "            \"body\": [\n",
    "                {\n",
    "                    \"name\": \"gpio-write\",\n",
    "                    \"pin\": 16,\n",
    "                    \"value\": 1\n",
    "                },\n",
    "                {\n",
    "                    \"name\": \"wait-sec\",\n",
    "                    \"duration\": 1\n",
    "                },\n",
    "                {\n",
    "                    \"name\": \"gpio-write\",\n",
    "                    \"pin\": 16,\n",
    "                    \"value\": 0\n",
    "                },\n",
    "                {\n",
    "                    \"name\": \"wait-sec\",\n",
    "                    \"duration\": 1\n",
    "                }\n",
    "            ]\n",
    "        }, {\n",
    "            \"name\": \"raw\",\n",
    "            \"commands\": [\n",
    "                \"ping 0\",\n",
    "                \"ident\"\n",
    "            ]\n",
    "        }\n",
    "    ]\n",
    "}"
   ]
  },
  {
   "cell_type": "code",
   "execution_count": 5,
   "metadata": {},
   "outputs": [
    {
     "name": "stdout",
     "output_type": "stream",
     "text": [
      "SeqExp([\n",
      "  RepeatExp((U32) 10, [\n",
      "    SeqExp([\n",
      "      ProcSetExp(gpio_mode[16], (U8) 1)\n",
      "      ProcSetExp(gpio_value[16], (U8) 1)\n",
      "    ])\n",
      "    WaitTimeExp((U32) 1)\n",
      "    SeqExp([\n",
      "      ProcSetExp(gpio_mode[16], (U8) 1)\n",
      "      ProcSetExp(gpio_value[16], (U8) 0)\n",
      "    ])\n",
      "    WaitTimeExp((U32) 1)\n",
      "  ])\n",
      "  RawCSH([\n",
      "    ping 0\n",
      "    ident\n",
      "  ])\n",
      "])\n"
     ]
    }
   ],
   "source": [
    "from proc_comp import parser\n",
    "\n",
    "p = parser.parse(code)\n",
    "\n",
    "#print(p)\n",
    "print(p.pprint())"
   ]
  },
  {
   "cell_type": "code",
   "execution_count": 6,
   "metadata": {},
   "outputs": [
    {
     "data": {
      "text/plain": [
       "['proc del 10 12',\n",
       " 'proc new',\n",
       " 'proc set _p_uint32[1] 0',\n",
       " 'proc set _p_uint32[0] 10',\n",
       " 'proc call 11',\n",
       " 'ping 0',\n",
       " 'ident',\n",
       " 'proc push 10 12',\n",
       " 'proc del 11 12',\n",
       " 'proc new',\n",
       " 'proc ifelse _p_uint32[1] < _p_uint32[0]',\n",
       " 'proc call 12',\n",
       " 'proc noop',\n",
       " 'proc push 11 12',\n",
       " 'proc del 12 12',\n",
       " 'proc new',\n",
       " 'proc set gpio_mode[16] 1',\n",
       " 'proc set gpio_value[16] 1',\n",
       " 'proc unop time idt _p_uint32[2]',\n",
       " 'proc set _p_uint32[3] 1',\n",
       " 'proc binop _p_uint32[2] + _p_uint32[3] _p_uint32[2]',\n",
       " 'proc block time >= _p_uint32[2]',\n",
       " 'proc set gpio_mode[16] 1',\n",
       " 'proc set gpio_value[16] 0',\n",
       " 'proc unop time idt _p_uint32[2]',\n",
       " 'proc set _p_uint32[3] 1',\n",
       " 'proc binop _p_uint32[2] + _p_uint32[3] _p_uint32[2]',\n",
       " 'proc block time >= _p_uint32[2]',\n",
       " 'proc unop _p_uint32[1] ++ _p_uint32[1]',\n",
       " 'proc call 11',\n",
       " 'proc push 12 12',\n",
       " 'proc run 10 12']"
      ]
     },
     "execution_count": 6,
     "metadata": {},
     "output_type": "execute_result"
    }
   ],
   "source": [
    "from proc_comp.codegen.codegen import CodeGen\n",
    "\n",
    "G = CodeGen()\n",
    "G.code_gen(p)\n"
   ]
  }
 ],
 "metadata": {
  "kernelspec": {
   "display_name": ".venv",
   "language": "python",
   "name": "python3"
  },
  "language_info": {
   "codemirror_mode": {
    "name": "ipython",
    "version": 3
   },
   "file_extension": ".py",
   "mimetype": "text/x-python",
   "name": "python",
   "nbconvert_exporter": "python",
   "pygments_lexer": "ipython3",
   "version": "3.12.3"
  }
 },
 "nbformat": 4,
 "nbformat_minor": 2
}
