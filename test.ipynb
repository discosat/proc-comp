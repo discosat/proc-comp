{
 "cells": [
  {
   "cell_type": "code",
   "execution_count": 1,
   "metadata": {},
   "outputs": [],
   "source": [
    "code = {\n",
    "    \"name\": \"commands\",\n",
    "    \"body\": [\n",
    "        {\n",
    "            \"name\": \"repeat-n\",\n",
    "            \"count\": 10,\n",
    "            \"body\": [\n",
    "                {\n",
    "                    \"name\": \"gpio-write\",\n",
    "                    \"pin\": 16,\n",
    "                    \"value\": 1\n",
    "                },\n",
    "                {\n",
    "                    \"name\": \"wait-sec\",\n",
    "                    \"duration\": 1\n",
    "                },\n",
    "                {\n",
    "                    \"name\": \"gpio-write\",\n",
    "                    \"pin\": 16,\n",
    "                    \"value\": 0\n",
    "                },\n",
    "                {\n",
    "                    \"name\": \"wait-sec\",\n",
    "                    \"duration\": 1\n",
    "                }\n",
    "            ]\n",
    "        }\n",
    "    ]\n",
    "}"
   ]
  },
  {
   "cell_type": "code",
   "execution_count": 2,
   "metadata": {},
   "outputs": [
    {
     "name": "stdout",
     "output_type": "stream",
     "text": [
      "SeqExp([\n",
      "  RepeatExp((U32) 10, [\n",
      "    SeqExp([\n",
      "      ProcSetExp(gpio_mode[16], (U8) 1)\n",
      "      ProcSetExp(gpio_value[16], (U8) 1)\n",
      "    ])\n",
      "    WaitTimeExp((U32) 1)\n",
      "    SeqExp([\n",
      "      ProcSetExp(gpio_mode[16], (U8) 1)\n",
      "      ProcSetExp(gpio_value[16], (U8) 0)\n",
      "    ])\n",
      "    WaitTimeExp((U32) 1)\n",
      "  ])\n",
      "])\n"
     ]
    }
   ],
   "source": [
    "from proc_comp import parser\n",
    "\n",
    "p = parser.parse(code)\n",
    "\n",
    "#print(p)\n",
    "print(p.pprint())"
   ]
  },
  {
   "cell_type": "code",
   "execution_count": 3,
   "metadata": {},
   "outputs": [
    {
     "name": "stdout",
     "output_type": "stream",
     "text": [
      "Procedures:\n",
      "proc$1\n",
      "\tProcSet gpio_mode[16] (U8) 1\n",
      "\tProcSet gpio_value[16] (U8) 1\n",
      "\tProcUnop time idt (UInt32) param$U32$3\n",
      "\tProcBinop (UInt32) param$U32$3 + (U32) 1 (UInt32) param$U32$3\n",
      "\tProcBlock time >= (UInt32) param$U32$3\n",
      "\tProcSet gpio_mode[16] (U8) 1\n",
      "\tProcSet gpio_value[16] (U8) 0\n",
      "\tProcUnop time idt (UInt32) param$U32$4\n",
      "\tProcBinop (UInt32) param$U32$4 + (U32) 1 (UInt32) param$U32$4\n",
      "\tProcBlock time >= (UInt32) param$U32$4\n",
      "proc$2\n",
      "\tProcSet (UInt32) param$U32$1 (U32) 0\n",
      "\tProcSet (UInt32) param$U32$2 (U32) 10\n",
      "\tProcCall proc$1\n",
      "\tProcUnop (UInt32) param$U32$1 ++ (UInt32) param$U32$1\n",
      "\tProcIfElse (UInt32) param$U32$1 < (UInt32) param$U32$2\n",
      "\tProcCall proc$2\n",
      "\tProcNoop\n",
      "Main:\n",
      "\tProcCall proc$2\n"
     ]
    }
   ],
   "source": [
    "from proc_comp.codegen.codegen import CodeGen\n",
    "\n",
    "G = CodeGen()\n",
    "G.code_gen(p)\n"
   ]
  },
  {
   "cell_type": "code",
   "execution_count": 4,
   "metadata": {},
   "outputs": [
    {
     "name": "stdout",
     "output_type": "stream",
     "text": [
      "Control Flow Graph\n",
      "Block: main#0\n",
      "\tInstructions:\n",
      "\tPredecessors: []\n",
      "\tSuccessors: ['repeat_head#1']\n",
      "\tLive In: set()\n",
      "\tLive Out: set()\n",
      "\n",
      "Block: repeat_head#1\n",
      "\tInstructions:\n",
      "\t\tInstruction(sets {(UInt32) param$U32$1}, uses set())\n",
      "\t\tInstruction(sets {(UInt32) param$U32$2}, uses set())\n",
      "\tPredecessors: ['main#0', 'repeat_tail#3']\n",
      "\tSuccessors: ['repeat_body#2']\n",
      "\tLive In: set()\n",
      "\tLive Out: set()\n",
      "\n",
      "Block: repeat_body#2\n",
      "\tInstructions:\n",
      "\t\tInstruction(sets {(UInt32) param$U32$3}, uses set())\n",
      "\t\tInstruction(sets {(UInt32) param$U32$3}, uses {(UInt32) param$U32$3})\n",
      "\t\tInstruction(sets set(), uses {(UInt32) param$U32$3})\n",
      "\t\tInstruction(sets {(UInt32) param$U32$4}, uses set())\n",
      "\t\tInstruction(sets {(UInt32) param$U32$4}, uses {(UInt32) param$U32$4})\n",
      "\t\tInstruction(sets set(), uses {(UInt32) param$U32$4})\n",
      "\tPredecessors: ['repeat_head#1']\n",
      "\tSuccessors: ['repeat_tail#3']\n",
      "\tLive In: set()\n",
      "\tLive Out: set()\n",
      "\n",
      "Block: repeat_tail#3\n",
      "\tInstructions:\n",
      "\t\tInstruction(sets {(UInt32) param$U32$1}, uses {(UInt32) param$U32$1})\n",
      "\tPredecessors: ['repeat_body#2']\n",
      "\tSuccessors: ['repeat_merge#4', 'repeat_head#1']\n",
      "\tLive In: set()\n",
      "\tLive Out: set()\n",
      "\n",
      "Block: repeat_merge#4\n",
      "\tInstructions:\n",
      "\tPredecessors: ['repeat_tail#3']\n",
      "\tSuccessors: []\n",
      "\tLive In: set()\n",
      "\tLive Out: set()\n",
      "\n"
     ]
    }
   ],
   "source": [
    "G.cfg.pprint()"
   ]
  },
  {
   "cell_type": "code",
   "execution_count": 5,
   "metadata": {},
   "outputs": [
    {
     "name": "stdout",
     "output_type": "stream",
     "text": [
      "Calculating liveness... 0\n",
      "Calculating liveness for block repeat_merge#4\n",
      "Old live_in: set()\n",
      "Old live_out: set()\n",
      "New live_in: set()\n",
      "New live_out: set()\n",
      "\n",
      "Calculating liveness for block repeat_tail#3\n",
      "Old live_in: set()\n",
      "Old live_out: set()\n",
      "Instruction(sets {(UInt32) param$U32$1}, uses {(UInt32) param$U32$1})\n",
      "New live_in: set()\n",
      "New live_out: set()\n",
      "\n",
      "Calculating liveness for block repeat_body#2\n",
      "Old live_in: set()\n",
      "Old live_out: set()\n",
      "Instruction(sets set(), uses {(UInt32) param$U32$4})\n",
      "Instruction(sets {(UInt32) param$U32$4}, uses {(UInt32) param$U32$4})\n",
      "Instruction(sets {(UInt32) param$U32$4}, uses set())\n",
      "Instruction(sets set(), uses {(UInt32) param$U32$3})\n",
      "Instruction(sets {(UInt32) param$U32$3}, uses {(UInt32) param$U32$3})\n",
      "Instruction(sets {(UInt32) param$U32$3}, uses set())\n",
      "New live_in: set()\n",
      "New live_out: set()\n",
      "\n",
      "Calculating liveness for block repeat_head#1\n",
      "Old live_in: set()\n",
      "Old live_out: set()\n",
      "Instruction(sets {(UInt32) param$U32$2}, uses set())\n",
      "Instruction(sets {(UInt32) param$U32$1}, uses set())\n",
      "New live_in: set()\n",
      "New live_out: set()\n",
      "\n",
      "Calculating liveness for block main#0\n",
      "Old live_in: set()\n",
      "Old live_out: set()\n",
      "New live_in: set()\n",
      "New live_out: set()\n",
      "\n"
     ]
    }
   ],
   "source": [
    "G.cfg.calc_liveness()"
   ]
  },
  {
   "cell_type": "code",
   "execution_count": 6,
   "metadata": {},
   "outputs": [
    {
     "ename": "TypeError",
     "evalue": "called match pattern must be a class",
     "output_type": "error",
     "traceback": [
      "\u001b[0;31m---------------------------------------------------------------------------\u001b[0m",
      "\u001b[0;31mTypeError\u001b[0m                                 Traceback (most recent call last)",
      "Cell \u001b[0;32mIn[6], line 12\u001b[0m\n\u001b[1;32m      9\u001b[0m t \u001b[38;5;241m=\u001b[39m Ty(\u001b[38;5;241m1\u001b[39m, \u001b[38;5;241m1\u001b[39m)\n\u001b[1;32m     11\u001b[0m \u001b[38;5;28;01mmatch\u001b[39;00m t:\n\u001b[0;32m---> 12\u001b[0m     \u001b[38;5;28;01mcase\u001b[39;00m Ty(\u001b[38;5;28misinstance\u001b[39m(a, types\u001b[38;5;241m.\u001b[39mint), \u001b[38;5;28misinstance\u001b[39m(b, types\u001b[38;5;241m.\u001b[39mint)):\n\u001b[1;32m     13\u001b[0m         \u001b[38;5;28mprint\u001b[39m(\u001b[38;5;124m\"\u001b[39m\u001b[38;5;124mints\u001b[39m\u001b[38;5;124m\"\u001b[39m)\n\u001b[1;32m     14\u001b[0m     \u001b[38;5;28;01mcase\u001b[39;00m\u001b[38;5;250m \u001b[39mTy(\u001b[38;5;28misinstance\u001b[39m(a, types\u001b[38;5;241m.\u001b[39mint), \u001b[38;5;28;01m_\u001b[39;00m):\n",
      "\u001b[0;31mTypeError\u001b[0m: called match pattern must be a class"
     ]
    }
   ],
   "source": [
    "import types\n",
    "\n",
    "class Ty:\n",
    "    __match_args__ = (\"a\", \"b\")\n",
    "    def __init__(self, a, b):\n",
    "        self.a = a\n",
    "        self.b = b\n",
    "\n",
    "t = Ty(1, 1)\n",
    "\n",
    "match t:\n",
    "    case Ty(isinstance(a, types.int), isinstance(b, types.int)):\n",
    "        print(\"ints\")\n",
    "    case Ty(isinstance(a, types.int), _):\n",
    "        print(\"Only a is int\")\n",
    "    case Ty(_, isinstance(b, types.int)):\n",
    "        print(\"Only b is int\")\n",
    "    case _:\n",
    "        print(\"neither int\")"
   ]
  },
  {
   "cell_type": "markdown",
   "metadata": {},
   "source": [
    "json -parser-> AbSyn -codegen-> ISH "
   ]
  },
  {
   "cell_type": "code",
   "execution_count": null,
   "metadata": {},
   "outputs": [
    {
     "name": "stdout",
     "output_type": "stream",
     "text": [
      "Block start:  entry Succeeds:  None\n",
      "Block(entry, set())\n",
      "Block(entry, set())\n",
      "[]\n"
     ]
    }
   ],
   "source": [
    "from proc_comp.common.cfgbuilder import ControlFlowGraph\n",
    "\n",
    "cfg = ControlFlowGraph()\n",
    "\n",
    "b = cfg.block_start(\"entry\")\n",
    "\n",
    "print(b)\n",
    "print(cfg.current_block)\n",
    "print(cfg.blocks)"
   ]
  }
 ],
 "metadata": {
  "kernelspec": {
   "display_name": "Python 3",
   "language": "python",
   "name": "python3"
  },
  "language_info": {
   "codemirror_mode": {
    "name": "ipython",
    "version": 3
   },
   "file_extension": ".py",
   "mimetype": "text/x-python",
   "name": "python",
   "nbconvert_exporter": "python",
   "pygments_lexer": "ipython3",
   "version": "3.12.4"
  }
 },
 "nbformat": 4,
 "nbformat_minor": 2
}
