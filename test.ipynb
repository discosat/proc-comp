{
 "cells": [
  {
   "cell_type": "code",
   "execution_count": 1,
   "metadata": {},
   "outputs": [],
   "source": [
    "code = {\n",
    "    \"name\": \"commands\",\n",
    "    \"body\": [\n",
    "        {\n",
    "            \"name\": \"repeat-n\",\n",
    "            \"count\": 10,\n",
    "            \"body\": [\n",
    "                {\n",
    "                    \"name\": \"gpio-write\",\n",
    "                    \"pin\": 16,\n",
    "                    \"value\": 1\n",
    "                },\n",
    "                {\n",
    "                    \"name\": \"wait-sec\",\n",
    "                    \"duration\": 1\n",
    "                },\n",
    "                {\n",
    "                    \"name\": \"gpio-write\",\n",
    "                    \"pin\": 16,\n",
    "                    \"value\": 0\n",
    "                },\n",
    "                {\n",
    "                    \"name\": \"wait-sec\",\n",
    "                    \"duration\": 1\n",
    "                }\n",
    "            ]\n",
    "        }\n",
    "    ]\n",
    "}"
   ]
  },
  {
   "cell_type": "code",
   "execution_count": 2,
   "metadata": {},
   "outputs": [
    {
     "name": "stdout",
     "output_type": "stream",
     "text": [
      "SeqExp([\n",
      "  RepeatExp((U32) 10, [\n",
      "    SeqExp([\n",
      "      ProcSetExp(gpio_mode[16], (U8) 1)\n",
      "      ProcSetExp(gpio_value[16], (U8) 1)\n",
      "    ])\n",
      "    WaitTimeExp((U32) 1)\n",
      "    SeqExp([\n",
      "      ProcSetExp(gpio_mode[16], (U8) 1)\n",
      "      ProcSetExp(gpio_value[16], (U8) 0)\n",
      "    ])\n",
      "    WaitTimeExp((U32) 1)\n",
      "  ])\n",
      "])\n"
     ]
    }
   ],
   "source": [
    "from proc_comp import parser\n",
    "\n",
    "p = parser.parse(code)\n",
    "\n",
    "#print(p)\n",
    "print(p.pprint())"
   ]
  },
  {
   "cell_type": "code",
   "execution_count": 3,
   "metadata": {},
   "outputs": [
    {
     "name": "stdout",
     "output_type": "stream",
     "text": [
      "Procedures:\n",
      "proc$1\n",
      "\tProcSet gpio_mode[16] (U8) 1\n",
      "\tProcSet gpio_value[16] (U8) 1\n",
      "\tProcUnop time idt (UInt32) param$U32$1\n",
      "\tProcBinop (UInt32) param$U32$1 + (U32) 1 (UInt32) param$U32$1\n",
      "\tProcBlock time >= (UInt32) param$U32$1\n",
      "\tProcSet gpio_mode[16] (U8) 1\n",
      "\tProcSet gpio_value[16] (U8) 0\n",
      "\tProcUnop time idt (UInt32) param$U32$2\n",
      "\tProcBinop (UInt32) param$U32$2 + (U32) 1 (UInt32) param$U32$2\n",
      "\tProcBlock time >= (UInt32) param$U32$2\n",
      "proc$2\n",
      "\tProcSet (UInt32) param$U32$3 (U32) 0\n",
      "\tProcSet (UInt32) param$U32$4 (U32) 10\n",
      "\tProcCall proc$1\n",
      "\tProcUnop (UInt32) param$U32$3 ++ (UInt32) param$U32$3\n",
      "\tProcIfElse (UInt32) param$U32$3 < (UInt32) param$U32$4\n",
      "\tProcCall proc$2\n",
      "\tProcNoop\n",
      "Main:\n",
      "\tProcCall proc$2\n"
     ]
    }
   ],
   "source": [
    "from proc_comp.codegen.codegen import CodeGen\n",
    "\n",
    "G = CodeGen()\n",
    "G.code_gen(p)\n"
   ]
  },
  {
   "cell_type": "code",
   "execution_count": 4,
   "metadata": {},
   "outputs": [
    {
     "ename": "AttributeError",
     "evalue": "'CodeGen' object has no attribute 'allocate_registers'",
     "output_type": "error",
     "traceback": [
      "\u001b[0;31m---------------------------------------------------------------------------\u001b[0m",
      "\u001b[0;31mAttributeError\u001b[0m                            Traceback (most recent call last)",
      "Cell \u001b[0;32mIn[4], line 1\u001b[0m\n\u001b[0;32m----> 1\u001b[0m \u001b[43mG\u001b[49m\u001b[38;5;241;43m.\u001b[39;49m\u001b[43mallocate_registers\u001b[49m()\n",
      "\u001b[0;31mAttributeError\u001b[0m: 'CodeGen' object has no attribute 'allocate_registers'"
     ]
    }
   ],
   "source": [
    "G.allocate_registers()"
   ]
  },
  {
   "cell_type": "code",
   "execution_count": null,
   "metadata": {},
   "outputs": [
    {
     "ename": "TypeError",
     "evalue": "called match pattern must be a type",
     "output_type": "error",
     "traceback": [
      "\u001b[0;31m---------------------------------------------------------------------------\u001b[0m",
      "\u001b[0;31mTypeError\u001b[0m                                 Traceback (most recent call last)",
      "Cell \u001b[0;32mIn[5], line 12\u001b[0m\n\u001b[1;32m      9\u001b[0m t \u001b[38;5;241m=\u001b[39m Ty(\u001b[38;5;241m1\u001b[39m, \u001b[38;5;241m1\u001b[39m)\n\u001b[1;32m     11\u001b[0m \u001b[38;5;28;01mmatch\u001b[39;00m t:\n\u001b[0;32m---> 12\u001b[0m     \u001b[38;5;28;01mcase\u001b[39;00m Ty(\u001b[38;5;28misinstance\u001b[39m(a, types\u001b[38;5;241m.\u001b[39mint), \u001b[38;5;28misinstance\u001b[39m(b, types\u001b[38;5;241m.\u001b[39mint)):\n\u001b[1;32m     13\u001b[0m         \u001b[38;5;28mprint\u001b[39m(\u001b[38;5;124m\"\u001b[39m\u001b[38;5;124mints\u001b[39m\u001b[38;5;124m\"\u001b[39m)\n\u001b[1;32m     14\u001b[0m     \u001b[38;5;28;01mcase\u001b[39;00m\u001b[38;5;250m \u001b[39mTy(\u001b[38;5;28misinstance\u001b[39m(a, types\u001b[38;5;241m.\u001b[39mint), \u001b[38;5;28;01m_\u001b[39;00m):\n",
      "\u001b[0;31mTypeError\u001b[0m: called match pattern must be a type"
     ]
    }
   ],
   "source": [
    "import types\n",
    "\n",
    "class Ty:\n",
    "    __match_args__ = (\"a\", \"b\")\n",
    "    def __init__(self, a, b):\n",
    "        self.a = a\n",
    "        self.b = b\n",
    "\n",
    "t = Ty(1, 1)\n",
    "\n",
    "match t:\n",
    "    case Ty(isinstance(a, types.int), isinstance(b, types.int)):\n",
    "        print(\"ints\")\n",
    "    case Ty(isinstance(a, types.int), _):\n",
    "        print(\"Only a is int\")\n",
    "    case Ty(_, isinstance(b, types.int)):\n",
    "        print(\"Only b is int\")\n",
    "    case _:\n",
    "        print(\"neither int\")"
   ]
  },
  {
   "cell_type": "markdown",
   "metadata": {},
   "source": [
    "json -parser-> AbSyn -codegen-> ISH "
   ]
  }
 ],
 "metadata": {
  "kernelspec": {
   "display_name": "Python 3",
   "language": "python",
   "name": "python3"
  },
  "language_info": {
   "codemirror_mode": {
    "name": "ipython",
    "version": 3
   },
   "file_extension": ".py",
   "mimetype": "text/x-python",
   "name": "python",
   "nbconvert_exporter": "python",
   "pygments_lexer": "ipython3",
   "version": "3.11.2"
  }
 },
 "nbformat": 4,
 "nbformat_minor": 2
}
