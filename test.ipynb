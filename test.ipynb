{
 "cells": [
  {
   "cell_type": "code",
   "execution_count": 1,
   "metadata": {},
   "outputs": [],
   "source": [
    "code = {\n",
    "    \"name\": \"commands\",\n",
    "    \"body\": [\n",
    "        {\n",
    "            \"name\": \"repeat-n\",\n",
    "            \"count\": 10,\n",
    "            \"body\": [\n",
    "                {\n",
    "                    \"name\": \"gpio-write\",\n",
    "                    \"pin\": 16,\n",
    "                    \"value\": 1\n",
    "                },\n",
    "                {\n",
    "                    \"name\": \"wait-sec\",\n",
    "                    \"duration\": 1\n",
    "                },\n",
    "                {\n",
    "                    \"name\": \"gpio-write\",\n",
    "                    \"pin\": 16,\n",
    "                    \"value\": 0\n",
    "                },\n",
    "                {\n",
    "                    \"name\": \"wait-sec\",\n",
    "                    \"duration\": 1\n",
    "                }\n",
    "            ]\n",
    "        }\n",
    "    ]\n",
    "}"
   ]
  },
  {
   "cell_type": "code",
   "execution_count": 2,
   "metadata": {},
   "outputs": [
    {
     "name": "stdout",
     "output_type": "stream",
     "text": [
      "SeqExp([\n",
      "  RepeatExp(10, [\n",
      "    SeqExp([\n",
      "      ProcSetExp(gpio_mode[16], ValExp(1))\n",
      "      ProcSetExp(gpio_value[16], ValExp(1))\n",
      "    ])\n",
      "    WaitTimeExp(1)\n",
      "    SeqExp([\n",
      "      ProcSetExp(gpio_mode[16], ValExp(1))\n",
      "      ProcSetExp(gpio_value[16], ValExp(0))\n",
      "    ])\n",
      "    WaitTimeExp(1)\n",
      "  ])\n",
      "])\n"
     ]
    }
   ],
   "source": [
    "import parser.parser as parser\n",
    "\n",
    "\n",
    "p = parser.parse(code)\n",
    "\n",
    "#print(p)\n",
    "print(p.pprint())"
   ]
  }
 ],
 "metadata": {
  "kernelspec": {
   "display_name": "Python 3",
   "language": "python",
   "name": "python3"
  },
  "language_info": {
   "codemirror_mode": {
    "name": "ipython",
    "version": 3
   },
   "file_extension": ".py",
   "mimetype": "text/x-python",
   "name": "python",
   "nbconvert_exporter": "python",
   "pygments_lexer": "ipython3",
   "version": "3.12.4"
  }
 },
 "nbformat": 4,
 "nbformat_minor": 2
}
